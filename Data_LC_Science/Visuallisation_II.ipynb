import pandas as pandas

superstopre = pd.read_csv("/")
superstore.head()

superstore.columns

import plotly.graph_oblects as go
superstore.info()
superstore.Country.value_counts()
superstore.City.value_counts()

cities = superstore.City.value_counts().keys()
citycounty=superstore.City.value_counts()[:5].values

citydistribution = go.Figure(data=go.Bar(x=cities,y=citycounty)).show()
citydistribution.upddate_layout(title="Top 5 Cities", xaxis_title="Cities", yaxis_title="Number of Counties")